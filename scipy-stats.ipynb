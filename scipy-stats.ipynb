{
 "cells": [
  {
   "cell_type": "markdown",
   "id": "c95087c2-3a67-4787-99a1-3e9eb58399c3",
   "metadata": {},
   "source": [
    "## Machine Learning and Statistics:\n",
    "# Overview of the Scipy-Stats Python Library\n",
    "***\n",
    "### Author: Julian Dunne | Email:[g00267940@gmit.ie]"
   ]
  },
  {
   "cell_type": "code",
   "execution_count": null,
   "id": "6d8ccc74-ed0e-4c2a-b62e-a151371a0d61",
   "metadata": {},
   "outputs": [],
   "source": []
  },
  {
   "cell_type": "code",
   "execution_count": null,
   "id": "8237ad0c-4185-4450-a613-d562f3365fd6",
   "metadata": {},
   "outputs": [],
   "source": []
  },
  {
   "cell_type": "code",
   "execution_count": null,
   "id": "43dbbe56-8e5d-4f60-8fee-7a9c340e4f2a",
   "metadata": {},
   "outputs": [],
   "source": []
  }
 ],
 "metadata": {
  "kernelspec": {
   "display_name": "Python 3",
   "language": "python",
   "name": "python3"
  },
  "language_info": {
   "codemirror_mode": {
    "name": "ipython",
    "version": 3
   },
   "file_extension": ".py",
   "mimetype": "text/x-python",
   "name": "python",
   "nbconvert_exporter": "python",
   "pygments_lexer": "ipython3",
   "version": "3.8.8"
  }
 },
 "nbformat": 4,
 "nbformat_minor": 5
}
