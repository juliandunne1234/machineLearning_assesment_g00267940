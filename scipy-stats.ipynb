{
 "cells": [
  {
   "cell_type": "markdown",
   "id": "c95087c2-3a67-4787-99a1-3e9eb58399c3",
   "metadata": {},
   "source": [
    "## Machine Learning and Statistics:\n",
    "# Overview of the Scipy-Stats Python Library\n",
    "***\n",
    "### Author: Julian Dunne | Email:[g00267940@gmit.ie]"
   ]
  },
  {
   "cell_type": "markdown",
   "id": "f54c193c-2b92-4cc7-844d-a56e3b652dab",
   "metadata": {},
   "source": [
    "***\n",
    "# SCIPY.STATS Python Library"
   ]
  },
  {
   "cell_type": "code",
   "execution_count": null,
   "id": "c11c28d9-bc26-4862-b2fa-7c424be40dca",
   "metadata": {},
   "outputs": [],
   "source": []
  },
  {
   "cell_type": "code",
   "execution_count": null,
   "id": "4839cc11-ace0-458f-88df-557957b07a04",
   "metadata": {},
   "outputs": [],
   "source": []
  },
  {
   "cell_type": "code",
   "execution_count": null,
   "id": "a4769475-97b2-4607-89df-c3f9af9a0495",
   "metadata": {},
   "outputs": [],
   "source": []
  },
  {
   "cell_type": "markdown",
   "id": "4645325e-50a8-41fb-af0d-6611327b7d78",
   "metadata": {},
   "source": [
    "***\n",
    "# Analysis of Variance"
   ]
  },
  {
   "cell_type": "markdown",
   "id": "ce5123ae-13f7-4f65-a154-10e0e4aa2b15",
   "metadata": {},
   "source": [
    "***\n",
    "## Introduction to Anova: \n",
    "\n",
    "ANOVA is used to determine statistical differences between the means of two or more independent groups. A one-way ANOVA is the most basic type of Anova and compares the effects of an independent variable on multiple dependent variables within the groups. A Two-way ANOVA performs the same analysis except it uses more than one independent variable, while a factorial ANOVA increases further the number of independent variables.<br>\n",
    "\n",
    "Where data variance is large (spread of data away from the mean) within the groups, the greater the possibility that the mean of a sample selected from the data will be different due to chance. For this reason ANOVA takes into account sample sizes whereby small samples increase the possiblity of data outliers and the differences between sample means. Anova returns an F value, which can then analysed to give a probability (p-value) of whether or not differences between the groups are statistically significant. Where the p-value is below 0.05 it can be said that there is a statistically significant difference and the groups are not all the same because of the the spread of the mean.<br>\n",
    "\n",
    "It is important to realize that the one-way ANOVA is an omnibus test statistic and cannot tell you which specific groups were statistically significantly different from each other, it only tells you that at least two groups were different.[1]. Determining which groups differ from one another can be done using a post hoc test. The Tukey test is one such test that compares the differences between means of values rather than comparing pairs of values. This will be looked at a later on."
   ]
  },
  {
   "cell_type": "markdown",
   "id": "259bb075-cd56-4ccd-8a21-53e6c4167393",
   "metadata": {},
   "source": [
    "***\n",
    "### Import the required libraries"
   ]
  },
  {
   "cell_type": "code",
   "execution_count": 1,
   "id": "f4e8a433-03e4-4c43-8280-2faecbc98958",
   "metadata": {},
   "outputs": [],
   "source": [
    "# Standard libraries\n",
    "import numpy as np\n",
    "import pandas as pd\n",
    "import matplotlib.pyplot as plt\n",
    "import seaborn as sns\n",
    "\n",
    "# Stats.\n",
    "import scipy.stats as ss\n",
    "\n",
    "# Tukey test\n",
    "from statsmodels.stats.multicomp import pairwise_tukeyhsd"
   ]
  },
  {
   "cell_type": "markdown",
   "id": "b5dc6c06-334c-4530-8b07-891c29483efb",
   "metadata": {},
   "source": [
    "***\n",
    "### Diet Dataset\n",
    "The following dataset contains information on 76 people using one of three diets. The dataset was downloaded from The University of Sheffield webpage https://www.sheffield.ac.uk/mash/statistics/datasets. Two participants were removed from the study as their gender was not included in the original dataset. The original dataset can be downloaded from url https://www.sheffield.ac.uk/polopoly_fs/1.937195!/file/Diet_R.csv."
   ]
  },
  {
   "cell_type": "code",
   "execution_count": 2,
   "id": "79cbc7f0-63d9-4434-a0a7-4d4ca2d89fc0",
   "metadata": {},
   "outputs": [
    {
     "data": {
      "text/html": [
       "<div>\n",
       "<style scoped>\n",
       "    .dataframe tbody tr th:only-of-type {\n",
       "        vertical-align: middle;\n",
       "    }\n",
       "\n",
       "    .dataframe tbody tr th {\n",
       "        vertical-align: top;\n",
       "    }\n",
       "\n",
       "    .dataframe thead th {\n",
       "        text-align: right;\n",
       "    }\n",
       "</style>\n",
       "<table border=\"1\" class=\"dataframe\">\n",
       "  <thead>\n",
       "    <tr style=\"text-align: right;\">\n",
       "      <th></th>\n",
       "      <th>Person</th>\n",
       "      <th>gender</th>\n",
       "      <th>Age</th>\n",
       "      <th>Height</th>\n",
       "      <th>pre.weight</th>\n",
       "      <th>Diet</th>\n",
       "      <th>weight6weeks</th>\n",
       "    </tr>\n",
       "  </thead>\n",
       "  <tbody>\n",
       "    <tr>\n",
       "      <th>0</th>\n",
       "      <td>1</td>\n",
       "      <td>0</td>\n",
       "      <td>22</td>\n",
       "      <td>159</td>\n",
       "      <td>58</td>\n",
       "      <td>1</td>\n",
       "      <td>54.2</td>\n",
       "    </tr>\n",
       "    <tr>\n",
       "      <th>1</th>\n",
       "      <td>2</td>\n",
       "      <td>0</td>\n",
       "      <td>46</td>\n",
       "      <td>192</td>\n",
       "      <td>60</td>\n",
       "      <td>1</td>\n",
       "      <td>54.0</td>\n",
       "    </tr>\n",
       "    <tr>\n",
       "      <th>2</th>\n",
       "      <td>3</td>\n",
       "      <td>0</td>\n",
       "      <td>55</td>\n",
       "      <td>170</td>\n",
       "      <td>64</td>\n",
       "      <td>1</td>\n",
       "      <td>63.3</td>\n",
       "    </tr>\n",
       "    <tr>\n",
       "      <th>3</th>\n",
       "      <td>4</td>\n",
       "      <td>0</td>\n",
       "      <td>33</td>\n",
       "      <td>171</td>\n",
       "      <td>64</td>\n",
       "      <td>1</td>\n",
       "      <td>61.1</td>\n",
       "    </tr>\n",
       "    <tr>\n",
       "      <th>4</th>\n",
       "      <td>5</td>\n",
       "      <td>0</td>\n",
       "      <td>50</td>\n",
       "      <td>170</td>\n",
       "      <td>65</td>\n",
       "      <td>1</td>\n",
       "      <td>62.2</td>\n",
       "    </tr>\n",
       "  </tbody>\n",
       "</table>\n",
       "</div>"
      ],
      "text/plain": [
       "   Person  gender  Age  Height  pre.weight  Diet  weight6weeks\n",
       "0       1       0   22     159          58     1          54.2\n",
       "1       2       0   46     192          60     1          54.0\n",
       "2       3       0   55     170          64     1          63.3\n",
       "3       4       0   33     171          64     1          61.1\n",
       "4       5       0   50     170          65     1          62.2"
      ]
     },
     "execution_count": 2,
     "metadata": {},
     "output_type": "execute_result"
    }
   ],
   "source": [
    "# Modified diet dataset\n",
    "df_diet = pd.read_csv('diet_r.csv', sep=',')\n",
    "df_diet.head()"
   ]
  },
  {
   "cell_type": "markdown",
   "id": "7585b3dd-5c1a-4dd6-ad0e-539f70fdccbe",
   "metadata": {},
   "source": [
    "***\n",
    "## One-Way Anova\n",
    "This notebook will look to perform a one-way Anova test on the dataset. To perform the one-way Anova we will only look at the male diet type and weight after 6 weeks.<br>\n",
    "<b>Null Hypothesis: </b> There is no difference in the mean amount of weight loss when comparing the three different diets."
   ]
  },
  {
   "cell_type": "code",
   "execution_count": 3,
   "id": "6c28ad68-93f0-45ff-a77f-21719259e82d",
   "metadata": {},
   "outputs": [
    {
     "data": {
      "text/html": [
       "<div>\n",
       "<style scoped>\n",
       "    .dataframe tbody tr th:only-of-type {\n",
       "        vertical-align: middle;\n",
       "    }\n",
       "\n",
       "    .dataframe tbody tr th {\n",
       "        vertical-align: top;\n",
       "    }\n",
       "\n",
       "    .dataframe thead th {\n",
       "        text-align: right;\n",
       "    }\n",
       "</style>\n",
       "<table border=\"1\" class=\"dataframe\">\n",
       "  <thead>\n",
       "    <tr style=\"text-align: right;\">\n",
       "      <th></th>\n",
       "      <th>Person</th>\n",
       "      <th>gender</th>\n",
       "      <th>Age</th>\n",
       "      <th>Height</th>\n",
       "      <th>pre.weight</th>\n",
       "      <th>Diet</th>\n",
       "      <th>weight6weeks</th>\n",
       "    </tr>\n",
       "  </thead>\n",
       "  <tbody>\n",
       "    <tr>\n",
       "      <th>43</th>\n",
       "      <td>15</td>\n",
       "      <td>1</td>\n",
       "      <td>39</td>\n",
       "      <td>168</td>\n",
       "      <td>71</td>\n",
       "      <td>1</td>\n",
       "      <td>71.6</td>\n",
       "    </tr>\n",
       "    <tr>\n",
       "      <th>44</th>\n",
       "      <td>16</td>\n",
       "      <td>1</td>\n",
       "      <td>31</td>\n",
       "      <td>158</td>\n",
       "      <td>72</td>\n",
       "      <td>1</td>\n",
       "      <td>70.9</td>\n",
       "    </tr>\n",
       "    <tr>\n",
       "      <th>45</th>\n",
       "      <td>17</td>\n",
       "      <td>1</td>\n",
       "      <td>40</td>\n",
       "      <td>173</td>\n",
       "      <td>74</td>\n",
       "      <td>1</td>\n",
       "      <td>69.5</td>\n",
       "    </tr>\n",
       "    <tr>\n",
       "      <th>46</th>\n",
       "      <td>18</td>\n",
       "      <td>1</td>\n",
       "      <td>50</td>\n",
       "      <td>160</td>\n",
       "      <td>78</td>\n",
       "      <td>1</td>\n",
       "      <td>73.9</td>\n",
       "    </tr>\n",
       "    <tr>\n",
       "      <th>47</th>\n",
       "      <td>19</td>\n",
       "      <td>1</td>\n",
       "      <td>43</td>\n",
       "      <td>162</td>\n",
       "      <td>80</td>\n",
       "      <td>1</td>\n",
       "      <td>71.0</td>\n",
       "    </tr>\n",
       "  </tbody>\n",
       "</table>\n",
       "</div>"
      ],
      "text/plain": [
       "    Person  gender  Age  Height  pre.weight  Diet  weight6weeks\n",
       "43      15       1   39     168          71     1          71.6\n",
       "44      16       1   31     158          72     1          70.9\n",
       "45      17       1   40     173          74     1          69.5\n",
       "46      18       1   50     160          78     1          73.9\n",
       "47      19       1   43     162          80     1          71.0"
      ]
     },
     "execution_count": 3,
     "metadata": {},
     "output_type": "execute_result"
    }
   ],
   "source": [
    "df_anova_one_way = df_diet[df_diet['gender'] == 1]\n",
    "df_anova_one_way.head()"
   ]
  },
  {
   "cell_type": "markdown",
   "id": "8d2d4d58-6104-4ac9-9aa5-fe84bc7b5c53",
   "metadata": {},
   "source": [
    "***\n",
    "## Assumptions\n",
    "To achieve a valid result using a one-way Anova, there are a number of assumptions that the sample data should meet."
   ]
  },
  {
   "cell_type": "markdown",
   "id": "58222ac5-c6d0-45f9-aaa3-382efed27819",
   "metadata": {},
   "source": [
    "***\n",
    "### Assumption 1:\n",
    "The dependent group variable is not categorical. It should be continuous and measured for example in hours or weight (kg). For the purposes of this test a new column is created from subtracting the 'pre.weight' and 'weight6weeks' variables and is measured in kg. The weight loss and weight gain will then be looked at to see if there is a noticeable difference between diet categories."
   ]
  },
  {
   "cell_type": "code",
   "execution_count": 4,
   "id": "208dd11b-fc73-4cec-971b-6350b5d3355a",
   "metadata": {},
   "outputs": [
    {
     "name": "stderr",
     "output_type": "stream",
     "text": [
      "<ipython-input-4-49af594b7f38>:2: SettingWithCopyWarning: \n",
      "A value is trying to be set on a copy of a slice from a DataFrame.\n",
      "Try using .loc[row_indexer,col_indexer] = value instead\n",
      "\n",
      "See the caveats in the documentation: https://pandas.pydata.org/pandas-docs/stable/user_guide/indexing.html#returning-a-view-versus-a-copy\n",
      "  df_anova_one_way['weightloss'] = df_anova_one_way['pre.weight'] - df_anova_one_way['weight6weeks']\n"
     ]
    },
    {
     "data": {
      "text/plain": [
       "count    33.000000\n",
       "mean      4.015152\n",
       "std       2.529837\n",
       "min      -1.400000\n",
       "25%       2.500000\n",
       "50%       4.100000\n",
       "75%       5.300000\n",
       "max       9.200000\n",
       "Name: weightloss, dtype: float64"
      ]
     },
     "execution_count": 4,
     "metadata": {},
     "output_type": "execute_result"
    }
   ],
   "source": [
    "# 'weight6weeks' as the dependent variable\n",
    "df_anova_one_way['weightloss'] = df_anova_one_way['pre.weight'] - df_anova_one_way['weight6weeks']\n",
    "dependent = df_anova_one_way['weightloss']\n",
    "dependent.describe()"
   ]
  },
  {
   "cell_type": "markdown",
   "id": "16576fd3-22ac-45f4-ac32-311793917735",
   "metadata": {},
   "source": [
    "***\n",
    "### Assumption 2:\n",
    "The independent variable should consist of at least three categorical, independent groups. For the puposes of this test the 'Diet' variable is to be used with categories '1', '2' and '3'."
   ]
  },
  {
   "cell_type": "code",
   "execution_count": 5,
   "id": "690a8949-641a-4756-9d70-692d15b8fba9",
   "metadata": {},
   "outputs": [
    {
     "data": {
      "text/plain": [
       "array([1, 2, 3], dtype=int64)"
      ]
     },
     "execution_count": 5,
     "metadata": {},
     "output_type": "execute_result"
    }
   ],
   "source": [
    "# 'Diet' as the independent variable\n",
    "independent = df_anova_one_way['Diet']\n",
    "independent.unique()"
   ]
  },
  {
   "cell_type": "markdown",
   "id": "90d6b9de-370c-4a64-9f2e-10c10c7aa743",
   "metadata": {},
   "source": [
    "***\n",
    "### Assumption 3:\n",
    "There is no relationship between the sample taken from each group or between the groups themselves. Each observed participant from within each sample from must independent from the other with none being in more than one group.<br>"
   ]
  },
  {
   "cell_type": "markdown",
   "id": "40413735-6137-447f-bcb8-0397ea4981eb",
   "metadata": {},
   "source": [
    "When considering this particular dataset as measured variables are weight then it is very possible that more than one of the participants weight pre and post diet is the same when measured to one decimal place so it could be very possible identical weights are recorded. However as this is only a small study and as the 'Person' column has all unique entries it is acceptable to assume that all particapants are independent of one another. "
   ]
  },
  {
   "cell_type": "markdown",
   "id": "02949c67-e0f6-44c6-acd8-7c14f6045d8b",
   "metadata": {},
   "source": [
    "***\n",
    "### Assumption 4:\n",
    "There should not be any significant outliers in the samples taken for each group."
   ]
  },
  {
   "cell_type": "markdown",
   "id": "a7c0e650-fbde-4df3-bbeb-76a2d3ad913a",
   "metadata": {},
   "source": [
    "The boxplot below has only thirty three participants so three outliers is a significant amount of the sample size. These outliers are more than likely correct values whereby some participants acutally gained weight during the diet and some participants lost significantly more weight than other.<br> \n",
    "Although it is assumed the data is correct, a one-way Anova study will be run twice. The first run will include the outlier values and the second run so as to see if statistically there is a difference."
   ]
  },
  {
   "cell_type": "markdown",
   "id": "3173f0c5-97f3-4fca-be89-646e806fd529",
   "metadata": {},
   "source": [
    "#### Boxplot displaying 'Diet' & 'weightloss'\n",
    "Boxplot displays data which includes the outlier values."
   ]
  },
  {
   "cell_type": "code",
   "execution_count": 6,
   "id": "75bc5e41-f0e3-4a55-bf26-de2457af5b8a",
   "metadata": {},
   "outputs": [
    {
     "data": {
      "text/plain": [
       "<AxesSubplot:xlabel='Diet', ylabel='weightloss'>"
      ]
     },
     "execution_count": 6,
     "metadata": {},
     "output_type": "execute_result"
    },
    {
     "data": {
      "image/png": "[encoded data removed]",
      "text/plain": [
       "<Figure size 432x288 with 1 Axes>"
      ]
     },
     "metadata": {
      "needs_background": "light"
     },
     "output_type": "display_data"
    }
   ],
   "source": [
    "# https://seaborn.pydata.org/generated/seaborn.boxplot.html\n",
    "sns.boxplot(x=independent, y=dependent)"
   ]
  },
  {
   "cell_type": "code",
   "execution_count": 7,
   "id": "7240bb04-d1bb-436f-ba42-8b0f518b77b7",
   "metadata": {},
   "outputs": [
    {
     "name": "stderr",
     "output_type": "stream",
     "text": [
      "C:\\Users\\Julian Dunne\\anaconda3\\lib\\site-packages\\pandas\\core\\frame.py:4308: SettingWithCopyWarning: \n",
      "A value is trying to be set on a copy of a slice from a DataFrame\n",
      "\n",
      "See the caveats in the documentation: https://pandas.pydata.org/pandas-docs/stable/user_guide/indexing.html#returning-a-view-versus-a-copy\n",
      "  return super().drop(\n",
      "C:\\Users\\Julian Dunne\\anaconda3\\lib\\site-packages\\pandas\\core\\frame.py:4308: SettingWithCopyWarning: \n",
      "A value is trying to be set on a copy of a slice from a DataFrame\n",
      "\n",
      "See the caveats in the documentation: https://pandas.pydata.org/pandas-docs/stable/user_guide/indexing.html#returning-a-view-versus-a-copy\n",
      "  return super().drop(\n"
     ]
    }
   ],
   "source": [
    "# Drop rows from the df_anova_one_way to remove outliers\n",
    "df_less_outliers = df_anova_one_way\n",
    "df_less_outliers.drop(df_less_outliers[df_less_outliers['weightloss'] < 0].index, inplace=True)\n",
    "df_less_outliers.drop(df_less_outliers[(df_less_outliers['Diet'] == 1) & (df_less_outliers['weightloss'] == 9.0)].index, inplace=True)"
   ]
  },
  {
   "cell_type": "markdown",
   "id": "37731e6f-0f25-4ed0-a3eb-e8b67afba0a9",
   "metadata": {},
   "source": [
    "#### Boxplot displaying 'Diet' & 'weightloss'\n",
    "Boxplot displays data which does not include the outlier values.<br>\n",
    "Now that the outliers have been removed the boxplot has been rescaled and it now shows a new outlier. Since the sample size of data is quite small and the outlier value is not significantly smaller it is acceptable to assume minimal impact on the one-way Anova study results."
   ]
  },
  {
   "cell_type": "code",
   "execution_count": 8,
   "id": "624e944e-eae1-4fa6-9ebf-3451fdeb7b17",
   "metadata": {},
   "outputs": [
    {
     "data": {
      "text/plain": [
       "<AxesSubplot:xlabel='Diet', ylabel='weightloss'>"
      ]
     },
     "execution_count": 8,
     "metadata": {},
     "output_type": "execute_result"
    },
    {
     "data": {
      "image/png": "[encoded data removed]",
      "text/plain": [
       "<Figure size 432x288 with 1 Axes>"
      ]
     },
     "metadata": {
      "needs_background": "light"
     },
     "output_type": "display_data"
    }
   ],
   "source": [
    "dependent_less_outliers = df_less_outliers['weightloss']\n",
    "independent_less_outliers = df_less_outliers['Diet']\n",
    "sns.boxplot(x=independent_less_outliers, y=dependent_less_outliers)"
   ]
  },
  {
   "cell_type": "markdown",
   "id": "75b66488-61d7-4913-b16f-dbe0fd135b09",
   "metadata": {},
   "source": [
    "***\n",
    "### Assumption 5:\n",
    "The dependent variable should be normally distributed for each category of the independent variable."
   ]
  },
  {
   "cell_type": "code",
   "execution_count": 9,
   "id": "76ce33d2-0657-424c-95ce-00e74d91d7e5",
   "metadata": {},
   "outputs": [],
   "source": [
    "# KDEs of the three categories.\n",
    "sns.displot(x=dependent, hue=independent, kind=\"kde\")\n",
    "plt.savefig('outliers_included.jpg')\n",
    "plt.close()\n",
    "sns.displot(x=dependent_less_outliers, hue=independent_less_outliers, kind=\"kde\")\n",
    "plt.savefig('outliers_not_included.jpg')\n",
    "plt.close()"
   ]
  },
  {
   "cell_type": "markdown",
   "id": "08451579-8c73-4321-8ba0-66264d69cc9e",
   "metadata": {},
   "source": [
    "### Distribution of Data\n",
    "The image on the left includes the outlier values and the image on the right does not include the outlier values. The data for each diet visually appears to be normally distributed for both instances of the dataset<br>\n",
    "There does appear to be a noticeable difference in how the data is distributed when the outlier values are removed."
   ]
  },
  {
   "cell_type": "markdown",
   "id": "2e997715-53ce-4067-b784-dcb59a8b5a6b",
   "metadata": {},
   "source": [
    "![Alt](outliers_included.jpg) | ![Alt](outliers_not_included.jpg)"
   ]
  },
  {
   "cell_type": "markdown",
   "id": "321fc661-b9db-4f6d-97f4-63448c9e3909",
   "metadata": {},
   "source": [
    "### Test for Nomality\n",
    "Although the plot above appears to be normally distributed, normality can be confirmed using the Shapiro-Wilk test of normality."
   ]
  },
  {
   "cell_type": "code",
   "execution_count": 10,
   "id": "611d4035-13fa-4449-a398-236f49843b70",
   "metadata": {},
   "outputs": [],
   "source": [
    "# Remove the measured weight loss for each diet.\n",
    "diet_1 = dependent[independent == 1]\n",
    "diet_2 = dependent[independent == 2]\n",
    "diet_3 = dependent[independent == 3]"
   ]
  },
  {
   "cell_type": "code",
   "execution_count": 11,
   "id": "8af61e94-b55c-4203-90e2-bb8ce5357b57",
   "metadata": {},
   "outputs": [
    {
     "data": {
      "text/plain": [
       "ShapiroResult(statistic=0.936674952507019, pvalue=0.5166419148445129)"
      ]
     },
     "execution_count": 11,
     "metadata": {},
     "output_type": "execute_result"
    }
   ],
   "source": [
    "ss.shapiro(diet_1)"
   ]
  },
  {
   "cell_type": "code",
   "execution_count": 12,
   "id": "de0d7934-07be-428c-bea7-d8aa02d1cb37",
   "metadata": {},
   "outputs": [
    {
     "data": {
      "text/plain": [
       "ShapiroResult(statistic=0.9502205848693848, pvalue=0.646774172782898)"
      ]
     },
     "execution_count": 12,
     "metadata": {},
     "output_type": "execute_result"
    }
   ],
   "source": [
    "ss.shapiro(diet_2)"
   ]
  },
  {
   "cell_type": "code",
   "execution_count": 13,
   "id": "d372ae76-a790-42ef-a945-4e8033536e7f",
   "metadata": {},
   "outputs": [
    {
     "data": {
      "text/plain": [
       "ShapiroResult(statistic=0.9414259791374207, pvalue=0.5167645215988159)"
      ]
     },
     "execution_count": 13,
     "metadata": {},
     "output_type": "execute_result"
    }
   ],
   "source": [
    "ss.shapiro(diet_3) "
   ]
  },
  {
   "cell_type": "markdown",
   "id": "d4ef5e4c-07e4-4a2c-a68f-6ab3d9d4d3fa",
   "metadata": {},
   "source": [
    "***"
   ]
  },
  {
   "cell_type": "code",
   "execution_count": 14,
   "id": "5b817e54-1aea-477f-9502-912e0a72e8f0",
   "metadata": {},
   "outputs": [],
   "source": [
    "# Remove the measured weight loss for each diet.\n",
    "diet_1_less_outliers = dependent_less_outliers[independent_less_outliers == 1]\n",
    "diet_2_less_outliers = dependent_less_outliers[independent_less_outliers == 2]\n",
    "diet_3_less_outliers = dependent_less_outliers[independent_less_outliers == 3]"
   ]
  },
  {
   "cell_type": "code",
   "execution_count": 15,
   "id": "22ca8f5f-900c-475c-9f94-64a50a45525a",
   "metadata": {},
   "outputs": [
    {
     "data": {
      "text/plain": [
       "ShapiroResult(statistic=0.9338464736938477, pvalue=0.5517240166664124)"
      ]
     },
     "execution_count": 15,
     "metadata": {},
     "output_type": "execute_result"
    }
   ],
   "source": [
    "ss.shapiro(diet_1_less_outliers)"
   ]
  },
  {
   "cell_type": "code",
   "execution_count": 16,
   "id": "280f7d45-3400-4716-ace1-4975aeb88526",
   "metadata": {},
   "outputs": [
    {
     "data": {
      "text/plain": [
       "ShapiroResult(statistic=0.9792430996894836, pvalue=0.9609889388084412)"
      ]
     },
     "execution_count": 16,
     "metadata": {},
     "output_type": "execute_result"
    }
   ],
   "source": [
    "ss.shapiro(diet_2_less_outliers)"
   ]
  },
  {
   "cell_type": "code",
   "execution_count": 17,
   "id": "e1c487db-51d8-4d9f-8b25-66fd037ed2af",
   "metadata": {},
   "outputs": [
    {
     "data": {
      "text/plain": [
       "ShapiroResult(statistic=0.9414259791374207, pvalue=0.5167645215988159)"
      ]
     },
     "execution_count": 17,
     "metadata": {},
     "output_type": "execute_result"
    }
   ],
   "source": [
    "ss.shapiro(diet_3_less_outliers) "
   ]
  },
  {
   "cell_type": "markdown",
   "id": "667de94b-2a05-45bd-8b04-e1598564e4a2",
   "metadata": {},
   "source": [
    "<b>Note:</b> The Shapiro-Wilk Test requires a pvalue of greater than 0.05 to imply that the data is normally distributed. The above tests all meet this criteria."
   ]
  },
  {
   "cell_type": "markdown",
   "id": "1a28a462-2774-4f3a-ad67-04af1d69e2a9",
   "metadata": {},
   "source": [
    "***\n",
    "### Assumption 6:\n",
    "Homogeneity of variances to be present. The Levene test tests the null hypothesis that all input samples are from populations with equal variances. If the data fails this assumption then a one-way Anova is not suitable for the sample data.<br>\n",
    "The pvalue of 86% for data that includes outlier values implies equal variance among the sample populations. The pvalue of 16% for data that does not include outlier values is also acceptable for running a one-way Anova test."
   ]
  },
  {
   "cell_type": "code",
   "execution_count": 18,
   "id": "197d7150-c5a4-4279-b480-011b719ae8d9",
   "metadata": {},
   "outputs": [
    {
     "data": {
      "text/plain": [
       "LeveneResult(statistic=0.1479500445197727, pvalue=0.8630996143496406)"
      ]
     },
     "execution_count": 18,
     "metadata": {},
     "output_type": "execute_result"
    }
   ],
   "source": [
    "# Levene test for equal variance - data does include outlier values.\n",
    "ss.levene(\n",
    "    dependent[independent == 1],\n",
    "    dependent[independent == 2],\n",
    "    dependent[independent == 3]\n",
    ")"
   ]
  },
  {
   "cell_type": "code",
   "execution_count": 19,
   "id": "c07d28ea-c02a-4780-b4d6-1e92d4428cd0",
   "metadata": {},
   "outputs": [
    {
     "data": {
      "text/plain": [
       "LeveneResult(statistic=1.9622186224485234, pvalue=0.16007976794206263)"
      ]
     },
     "execution_count": 19,
     "metadata": {},
     "output_type": "execute_result"
    }
   ],
   "source": [
    "# Levene test for equal variance - data does not include outlier values.\n",
    "ss.levene(\n",
    "    dependent_less_outliers[independent_less_outliers == 1],\n",
    "    dependent_less_outliers[independent_less_outliers == 2],\n",
    "    dependent_less_outliers[independent_less_outliers == 3]\n",
    ")"
   ]
  },
  {
   "cell_type": "markdown",
   "id": "96d5b97b-6d5e-43b0-9583-86e0c44877eb",
   "metadata": {},
   "source": [
    "***\n",
    "## One-way Anova Test\n",
    "The pvalues below of 86% and 53% both imply that the Null Hypothesis is true. There is no difference in the mean amount of weight loss when comparing the three different diets."
   ]
  },
  {
   "cell_type": "code",
   "execution_count": 20,
   "id": "9261b54e-da50-4ad7-81b3-620be089fa14",
   "metadata": {},
   "outputs": [
    {
     "data": {
      "text/plain": [
       "F_onewayResult(statistic=0.14805171518545177, pvalue=0.8630127241759452)"
      ]
     },
     "execution_count": 20,
     "metadata": {},
     "output_type": "execute_result"
    }
   ],
   "source": [
    "ss.f_oneway(\n",
    "    dependent[independent == 1],\n",
    "    dependent[independent == 2],\n",
    "    dependent[independent == 3]\n",
    ")"
   ]
  },
  {
   "cell_type": "code",
   "execution_count": 21,
   "id": "42e3b7db-33cf-4483-a431-b63f6ba45ef1",
   "metadata": {},
   "outputs": [
    {
     "data": {
      "text/plain": [
       "F_onewayResult(statistic=0.650030626403429, pvalue=0.5300065620899272)"
      ]
     },
     "execution_count": 21,
     "metadata": {},
     "output_type": "execute_result"
    }
   ],
   "source": [
    "ss.f_oneway(\n",
    "    dependent_less_outliers[independent_less_outliers == 1],\n",
    "    dependent_less_outliers[independent_less_outliers == 2],\n",
    "    dependent_less_outliers[independent_less_outliers == 3]\n",
    ")"
   ]
  },
  {
   "cell_type": "markdown",
   "id": "6114b9f0-157a-491e-b137-253f000c49d3",
   "metadata": {},
   "source": [
    "***\n",
    "# References:\n",
    "\n",
    "[1] Laerd Statistics webpage on One-way ANOVA in SPSS Statistics: https://statistics.laerd.com/spss-tutorials/one-way-anova-using-spss-statistics.php <br>\n",
    "[2] Eric marsja Github repository containing Two-Way Anova in Python Tutorial: https://github.com/marsja/jupyter/blob/master/Python_ANOVA/Two_Way_ANOVA_in_Python_Tutorial.ipynb."
   ]
  },
  {
   "cell_type": "code",
   "execution_count": null,
   "id": "e8387857-eb2e-4a41-a419-277326fc9460",
   "metadata": {},
   "outputs": [],
   "source": []
  }
 ],
 "metadata": {
  "kernelspec": {
   "display_name": "Python 3",
   "language": "python",
   "name": "python3"
  },
  "language_info": {
   "codemirror_mode": {
    "name": "ipython",
    "version": 3
   },
   "file_extension": ".py",
   "mimetype": "text/x-python",
   "name": "python",
   "nbconvert_exporter": "python",
   "pygments_lexer": "ipython3",
   "version": "3.8.8"
  }
 },
 "nbformat": 4,
 "nbformat_minor": 5
}
