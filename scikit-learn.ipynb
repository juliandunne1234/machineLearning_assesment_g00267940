{
 "cells": [
  {
   "cell_type": "markdown",
   "id": "e8c83c7a-d44e-454b-ae0d-0444e3da0310",
   "metadata": {},
   "source": [
    "## Machine Learning and Statistics:\n",
    "# Overview of the Scikit-Learn Python Library\n",
    "***\n",
    "### Author: Julian Dunne | Email:[g00267940@gmit.ie]"
   ]
  },
  {
   "cell_type": "code",
   "execution_count": null,
   "id": "42b243e5-fe42-4503-86dc-0da84db893a7",
   "metadata": {},
   "outputs": [],
   "source": []
  },
  {
   "cell_type": "code",
   "execution_count": null,
   "id": "da821045-ee76-4328-9226-419610f1e64a",
   "metadata": {},
   "outputs": [],
   "source": []
  },
  {
   "cell_type": "code",
   "execution_count": null,
   "id": "88dbea64-580e-4972-acde-f58889f6ee6f",
   "metadata": {},
   "outputs": [],
   "source": []
  }
 ],
 "metadata": {
  "kernelspec": {
   "display_name": "Python 3",
   "language": "python",
   "name": "python3"
  },
  "language_info": {
   "codemirror_mode": {
    "name": "ipython",
    "version": 3
   },
   "file_extension": ".py",
   "mimetype": "text/x-python",
   "name": "python",
   "nbconvert_exporter": "python",
   "pygments_lexer": "ipython3",
   "version": "3.8.8"
  }
 },
 "nbformat": 4,
 "nbformat_minor": 5
}
